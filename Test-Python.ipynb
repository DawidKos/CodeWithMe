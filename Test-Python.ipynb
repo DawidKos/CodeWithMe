{
 "cells": [
  {
   "cell_type": "markdown",
   "metadata": {},
   "source": [
    "## Instrukcja:\n",
    "\n",
    "Poniżej mamy pary komórek Jupyter Notebook, gdzie jedna zawiera polecenie/pytanie, a w drugą wpisujemy prawidłowy kod, bedący rozwiązaniem"
   ]
  },
  {
   "cell_type": "markdown",
   "metadata": {},
   "source": [
    "### 1. Napisz instrukcję, która wygeneruje z poniższego łańcucha listę jego wyrazów:\n",
    "\n",
    "string = 'Python to moje nowe hobby'"
   ]
  },
  {
   "cell_type": "code",
   "execution_count": 1,
   "metadata": {},
   "outputs": [
    {
     "data": {
      "text/plain": [
       "['Python', 'to', 'moje', 'nowe', 'hobby']"
      ]
     },
     "execution_count": 1,
     "metadata": {},
     "output_type": "execute_result"
    }
   ],
   "source": [
    "string = 'Python to moje nowe hobby'\n",
    "lista = string.split()\n",
    "lista"
   ]
  },
  {
   "cell_type": "markdown",
   "metadata": {
    "collapsed": true
   },
   "source": [
    "### 2. Przekształć uzyskaną listę w łańcuch:\n",
    "\n",
    "string2 = 'Moje hobby to Python'"
   ]
  },
  {
   "cell_type": "code",
   "execution_count": null,
   "metadata": {},
   "outputs": [],
   "source": []
  },
  {
   "cell_type": "markdown",
   "metadata": {},
   "source": [
    "### 3. Mamy dane wartości dla zmiennych:\n",
    "\n",
    "    z1 = 'hobby'\n",
    "    z2 = 'Python'\n",
    "\n",
    "**Użyj metody .format() dla string2, aby uzyskać poniższy wynik:**\n",
    "\n",
    "    Moje wielkie hobby to Python"
   ]
  },
  {
   "cell_type": "code",
   "execution_count": null,
   "metadata": {},
   "outputs": [],
   "source": []
  },
  {
   "cell_type": "markdown",
   "metadata": {},
   "source": [
    "### 4. Mamy łańcuch: \n",
    "`To jest test z języka Python`  \n",
    "\n",
    "Uzyskaj wartość indeksu w łańcuchu, gdzie zaczyna się wyraz Python "
   ]
  },
  {
   "cell_type": "code",
   "execution_count": null,
   "metadata": {},
   "outputs": [],
   "source": []
  },
  {
   "cell_type": "markdown",
   "metadata": {},
   "source": [
    "###  5. Mamy daną poniższą listę: \n",
    "``lista = [1,2,[3,4],[5,[100,200,['Python']],23,11],1,7]``\n",
    "\n",
    "**Napisz kod, którego wynik będzie:**\n",
    "Python"
   ]
  },
  {
   "cell_type": "code",
   "execution_count": null,
   "metadata": {},
   "outputs": [],
   "source": []
  },
  {
   "cell_type": "markdown",
   "metadata": {},
   "source": [
    "### 6. Mamy dany poniższy obiekt:\n",
    "``{'k1':[1,2,3,{'dane':['ojej','co','za',{'zawiły':[1,2,3,'kod']}]}]}``\n",
    "\n",
    "**Napisz kod, którego wynik będzie:**\n",
    "kod"
   ]
  },
  {
   "cell_type": "code",
   "execution_count": null,
   "metadata": {},
   "outputs": [],
   "source": []
  },
  {
   "cell_type": "markdown",
   "metadata": {},
   "source": [
    "### 7. Utwórz funkcję, która pobierze adres email i zwróci domenę internetową:\n",
    "    \n",
    "Na przykład, wstawienie łańcucha \"imie.nazwisko@ue.wroc.pl\" jako argumentu do funkcji dawałoby wynik: ue.wroc.pl"
   ]
  },
  {
   "cell_type": "code",
   "execution_count": null,
   "metadata": {},
   "outputs": [],
   "source": []
  },
  {
   "cell_type": "markdown",
   "metadata": {},
   "source": [
    "### 8. Utwórz funkcję, która zwróci True, jeśli słowo 'Python' jest elementem wprowadzonego łańcucha."
   ]
  },
  {
   "cell_type": "code",
   "execution_count": null,
   "metadata": {},
   "outputs": [],
   "source": []
  },
  {
   "cell_type": "markdown",
   "metadata": {},
   "source": [
    "### 9. Uwtórz funkcję, która policzy ile razy słowo 'Python' występuje w poniższym łańcuchu:\n",
    "``Od rana Python i tylko Python``"
   ]
  },
  {
   "cell_type": "code",
   "execution_count": null,
   "metadata": {},
   "outputs": [],
   "source": []
  },
  {
   "cell_type": "markdown",
   "metadata": {},
   "source": [
    "### 10. Użyj funkcję anonimową i funkcję filter(), aby zwróciła wyrazy z poniższej listy, które nie zaczynają się od litery 'P':\n",
    "\n",
    "    lista3 = ['Python', 'to', 'moje', 'nowe', 'hobby']\n",
    "\n",
    "**wynik powinien być:**\n",
    "\n",
    "    ['to', 'moje', 'nowe', 'hobby']"
   ]
  },
  {
   "cell_type": "code",
   "execution_count": null,
   "metadata": {},
   "outputs": [],
   "source": []
  },
  {
   "cell_type": "markdown",
   "metadata": {},
   "source": [
    "### 11. Napisz kod, który usunie z poniższej listy duplikaty, czyli wynik będzie: [10, 20, 30, 40, 50, 60, 80]:\n",
    "\n",
    "a = [10,20,30,20,10,50,60,40,80,50,40]"
   ]
  },
  {
   "cell_type": "code",
   "execution_count": null,
   "metadata": {},
   "outputs": [],
   "source": []
  },
  {
   "cell_type": "markdown",
   "metadata": {},
   "source": [
    "### 12. Napisz pętlę For, która zamieni wyrazy z łańcucha 'Python to moje nowe hobby' na listę:  \n",
    "\n",
    "['PYTHON', 'TO', 'MOJE', 'NOWE', 'HOBBY']"
   ]
  },
  {
   "cell_type": "code",
   "execution_count": null,
   "metadata": {},
   "outputs": [],
   "source": []
  },
  {
   "cell_type": "markdown",
   "metadata": {},
   "source": [
    "### 13. Napisz pętlę For, która zamieni wyrazy łańcucha 'Python to moje nowe hobby' na listę:\n",
    "\n",
    "['P', 't', 'm', 'n', 'h']"
   ]
  },
  {
   "cell_type": "code",
   "execution_count": null,
   "metadata": {},
   "outputs": [],
   "source": []
  },
  {
   "cell_type": "markdown",
   "metadata": {},
   "source": [
    "### 14. Utwórz listę składaną, która zamieni listę: \n",
    "\n",
    "['PYTHON', 'TO', 'MOJE', 'NOWE', 'HOBBY'] \n",
    "\n",
    "**na listę:**\n",
    "\n",
    "['Python', 'To', 'Moje', 'Nowe', 'Hobby']"
   ]
  },
  {
   "cell_type": "code",
   "execution_count": null,
   "metadata": {},
   "outputs": [],
   "source": []
  },
  {
   "cell_type": "markdown",
   "metadata": {},
   "source": [
    "### 15. Przygotowujemy test z Pythona i nasze zadanie jest napisanie kodu zawierającego funkcję, która przyjmować będzie wartość procentową wyników testu od użytkownika i zwracać tekst:\n",
    "\n",
    "Twoja ocena z testu jest: \n",
    "\n",
    "**gdzie po dwukropku wstawiana będzie automatycznie ocena:**\n",
    "\n",
    "niedostateczny, jeśli wynik testu był poniżej 50%\n",
    "\n",
    "dostateczny, jeśli wynik testu był co najmniej 50%, ale niższy od 60%\n",
    "\n",
    "dostateczny plus, jeśli wynik testu był co najmniej 60%, ale niższy od 70%\n",
    "\n",
    "dobry, jeśli wynik testu był co najmniej 70%, ale niższy od 80%\n",
    "\n",
    "dobry plus, jeśli wynik testu był co najmniej 80%, ale niższy od 90%\n",
    "\n",
    "bardzo dobry, jeśli wynik testu był co najmniej 90% "
   ]
  },
  {
   "cell_type": "code",
   "execution_count": null,
   "metadata": {},
   "outputs": [],
   "source": []
  },
  {
   "cell_type": "markdown",
   "metadata": {
    "collapsed": true
   },
   "source": [
    "### 16. Mamy zmienną:\n",
    "``str2 = \"Twoja ocena z testu to: 5.0\"``\n",
    "\n",
    "Napisz kod, który podmieni ocenę na 4.0"
   ]
  },
  {
   "cell_type": "code",
   "execution_count": null,
   "metadata": {},
   "outputs": [],
   "source": []
  },
  {
   "cell_type": "markdown",
   "metadata": {},
   "source": [
    "### 17. Napisz funkcję, która wydrukuje ostatnie litery z dowolnego łańcucha"
   ]
  },
  {
   "cell_type": "code",
   "execution_count": null,
   "metadata": {},
   "outputs": [],
   "source": []
  },
  {
   "cell_type": "markdown",
   "metadata": {},
   "source": [
    "### 18. Napisz kod, który policzy liczbę samogłosek `o` w łańcuchu:\n",
    "`Python jest bardzo dobrym narzędziem w data science`"
   ]
  },
  {
   "cell_type": "code",
   "execution_count": null,
   "metadata": {},
   "outputs": [],
   "source": []
  },
  {
   "cell_type": "markdown",
   "metadata": {},
   "source": [
    "### 19. Napisz kod, który wyświetli bieżącą datę w formacie:\n",
    "``Dzisiaj jest niedziela, 18 października 2020 r.``"
   ]
  },
  {
   "cell_type": "code",
   "execution_count": null,
   "metadata": {},
   "outputs": [],
   "source": []
  },
  {
   "cell_type": "markdown",
   "metadata": {},
   "source": [
    "### 20. Napisz kod, który utworzy listę zawierającą krotki będące parami wartości indeksu oraz elementu z poniższej listy:\n",
    "`lista = ['pies','kot','chomik','kanarek']`"
   ]
  },
  {
   "cell_type": "code",
   "execution_count": null,
   "metadata": {},
   "outputs": [],
   "source": []
  }
 ],
 "metadata": {
  "kernelspec": {
   "display_name": "Python 3 (ipykernel)",
   "language": "python",
   "name": "python3"
  },
  "language_info": {
   "codemirror_mode": {
    "name": "ipython",
    "version": 3
   },
   "file_extension": ".py",
   "mimetype": "text/x-python",
   "name": "python",
   "nbconvert_exporter": "python",
   "pygments_lexer": "ipython3",
   "version": "3.9.7"
  }
 },
 "nbformat": 4,
 "nbformat_minor": 1
}
