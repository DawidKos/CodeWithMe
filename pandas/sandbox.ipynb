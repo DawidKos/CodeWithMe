{
 "cells": [
  {
   "cell_type": "markdown",
   "source": [
    "### Przydatne funkcje i metody\n",
    "\n",
    "**.set_index** - ustawienie danej kolumny jako indeksu\n",
    "**.reset_index** - resetuje indeks do wartości domyślnych\n",
    "\n",
    "**.is_unique** - sprawdza czy wartości są unikalne\n",
    "\n",
    "**.loc** (nazwa od locate) - przeszukuje DataFrame po indeksach np koty.loc['Molek']\n",
    "**.iloc** - bardzo podobna do loc, z tą różnicą, że funkcja iloc korzysta tylko i wyłącznie z wartości numerycznych indeksów. Nawet jeżeli indeks wierszy jest ustawiony na region i nawet jeżeli nasze kolumny mają nazwy, funkcją iloc przyjmie tylko numery wierszy i kolumn\n",
    "\n",
    "**.head()** - wyświetli (domyślnie 5) pierwszych rekordów\n",
    "**.tail()** - wyświetli (domyślnie 5) ostatnich rekordów\n",
    "**.sample()** - wyświetli losowo wybrany rekord (domyślnie 1 rekord)"
   ],
   "metadata": {
    "collapsed": false
   }
  },
  {
   "cell_type": "markdown",
   "source": [
    "## Import pliku\n",
    "\n",
    "Najczęściej używane:\n",
    "* read_csv()\n",
    "* read_excel()\n",
    "* read_html()\n",
    "* read_json()\n",
    "* read_sql()\n",
    "\n",
    "**UWAGA:** *Ścieżki plików działają również z adresami URL*"
   ],
   "metadata": {
    "collapsed": false
   }
  },
  {
   "cell_type": "code",
   "execution_count": 89,
   "outputs": [
    {
     "data": {
      "text/plain": "   150    4  setosa  versicolor  virginica\n0  5.1  3.5     1.4         0.2          0\n1  4.9  3.0     1.4         0.2          0\n2  4.7  3.2     1.3         0.2          0\n3  4.6  3.1     1.5         0.2          0\n4  5.0  3.6     1.4         0.2          0",
      "text/html": "<div>\n<style scoped>\n    .dataframe tbody tr th:only-of-type {\n        vertical-align: middle;\n    }\n\n    .dataframe tbody tr th {\n        vertical-align: top;\n    }\n\n    .dataframe thead th {\n        text-align: right;\n    }\n</style>\n<table border=\"1\" class=\"dataframe\">\n  <thead>\n    <tr style=\"text-align: right;\">\n      <th></th>\n      <th>150</th>\n      <th>4</th>\n      <th>setosa</th>\n      <th>versicolor</th>\n      <th>virginica</th>\n    </tr>\n  </thead>\n  <tbody>\n    <tr>\n      <th>0</th>\n      <td>5.1</td>\n      <td>3.5</td>\n      <td>1.4</td>\n      <td>0.2</td>\n      <td>0</td>\n    </tr>\n    <tr>\n      <th>1</th>\n      <td>4.9</td>\n      <td>3.0</td>\n      <td>1.4</td>\n      <td>0.2</td>\n      <td>0</td>\n    </tr>\n    <tr>\n      <th>2</th>\n      <td>4.7</td>\n      <td>3.2</td>\n      <td>1.3</td>\n      <td>0.2</td>\n      <td>0</td>\n    </tr>\n    <tr>\n      <th>3</th>\n      <td>4.6</td>\n      <td>3.1</td>\n      <td>1.5</td>\n      <td>0.2</td>\n      <td>0</td>\n    </tr>\n    <tr>\n      <th>4</th>\n      <td>5.0</td>\n      <td>3.6</td>\n      <td>1.4</td>\n      <td>0.2</td>\n      <td>0</td>\n    </tr>\n  </tbody>\n</table>\n</div>"
     },
     "execution_count": 89,
     "metadata": {},
     "output_type": "execute_result"
    }
   ],
   "source": [
    "from pandas import read_csv\n",
    "\n",
    "iris = read_csv('https://raw.githubusercontent.com/scikit-learn/scikit-learn/main/sklearn/datasets/data/iris.csv')\n",
    "iris.head()"
   ],
   "metadata": {
    "collapsed": false,
    "pycharm": {
     "name": "#%%\n"
    }
   }
  },
  {
   "cell_type": "markdown",
   "source": [
    "##### Przydatne atrybuty podczas tworzenia DataFrame.\n",
    "\n",
    "**skiprow** - pominięcie podczas tworzenia DataFrame określonej ilości wierszy (np. nagłówków).\n",
    "**names** - utworzenie własnych nazw nagłówków."
   ],
   "metadata": {
    "collapsed": false
   }
  },
  {
   "cell_type": "code",
   "execution_count": 90,
   "outputs": [
    {
     "data": {
      "text/plain": "     Sepal length  Sepal width  Petal length  Petal width  Species\n0             5.1          3.5           1.4          0.2        0\n1             4.9          3.0           1.4          0.2        0\n2             4.7          3.2           1.3          0.2        0\n3             4.6          3.1           1.5          0.2        0\n4             5.0          3.6           1.4          0.2        0\n..            ...          ...           ...          ...      ...\n145           6.7          3.0           5.2          2.3        2\n146           6.3          2.5           5.0          1.9        2\n147           6.5          3.0           5.2          2.0        2\n148           6.2          3.4           5.4          2.3        2\n149           5.9          3.0           5.1          1.8        2\n\n[150 rows x 5 columns]",
      "text/html": "<div>\n<style scoped>\n    .dataframe tbody tr th:only-of-type {\n        vertical-align: middle;\n    }\n\n    .dataframe tbody tr th {\n        vertical-align: top;\n    }\n\n    .dataframe thead th {\n        text-align: right;\n    }\n</style>\n<table border=\"1\" class=\"dataframe\">\n  <thead>\n    <tr style=\"text-align: right;\">\n      <th></th>\n      <th>Sepal length</th>\n      <th>Sepal width</th>\n      <th>Petal length</th>\n      <th>Petal width</th>\n      <th>Species</th>\n    </tr>\n  </thead>\n  <tbody>\n    <tr>\n      <th>0</th>\n      <td>5.1</td>\n      <td>3.5</td>\n      <td>1.4</td>\n      <td>0.2</td>\n      <td>0</td>\n    </tr>\n    <tr>\n      <th>1</th>\n      <td>4.9</td>\n      <td>3.0</td>\n      <td>1.4</td>\n      <td>0.2</td>\n      <td>0</td>\n    </tr>\n    <tr>\n      <th>2</th>\n      <td>4.7</td>\n      <td>3.2</td>\n      <td>1.3</td>\n      <td>0.2</td>\n      <td>0</td>\n    </tr>\n    <tr>\n      <th>3</th>\n      <td>4.6</td>\n      <td>3.1</td>\n      <td>1.5</td>\n      <td>0.2</td>\n      <td>0</td>\n    </tr>\n    <tr>\n      <th>4</th>\n      <td>5.0</td>\n      <td>3.6</td>\n      <td>1.4</td>\n      <td>0.2</td>\n      <td>0</td>\n    </tr>\n    <tr>\n      <th>...</th>\n      <td>...</td>\n      <td>...</td>\n      <td>...</td>\n      <td>...</td>\n      <td>...</td>\n    </tr>\n    <tr>\n      <th>145</th>\n      <td>6.7</td>\n      <td>3.0</td>\n      <td>5.2</td>\n      <td>2.3</td>\n      <td>2</td>\n    </tr>\n    <tr>\n      <th>146</th>\n      <td>6.3</td>\n      <td>2.5</td>\n      <td>5.0</td>\n      <td>1.9</td>\n      <td>2</td>\n    </tr>\n    <tr>\n      <th>147</th>\n      <td>6.5</td>\n      <td>3.0</td>\n      <td>5.2</td>\n      <td>2.0</td>\n      <td>2</td>\n    </tr>\n    <tr>\n      <th>148</th>\n      <td>6.2</td>\n      <td>3.4</td>\n      <td>5.4</td>\n      <td>2.3</td>\n      <td>2</td>\n    </tr>\n    <tr>\n      <th>149</th>\n      <td>5.9</td>\n      <td>3.0</td>\n      <td>5.1</td>\n      <td>1.8</td>\n      <td>2</td>\n    </tr>\n  </tbody>\n</table>\n<p>150 rows × 5 columns</p>\n</div>"
     },
     "execution_count": 90,
     "metadata": {},
     "output_type": "execute_result"
    }
   ],
   "source": [
    "url = 'https://raw.githubusercontent.com/scikit-learn/scikit-learn/main/sklearn/datasets/data/iris.csv'\n",
    "iris = read_csv(url, skiprows=1, names=['Sepal length', 'Sepal width', 'Petal length', 'Petal width', 'Species'])\n",
    "iris"
   ],
   "metadata": {
    "collapsed": false,
    "pycharm": {
     "name": "#%%\n"
    }
   }
  },
  {
   "cell_type": "markdown",
   "source": [
    "##### Zamiana wartości w kolumnie za pomocą .replace()"
   ],
   "metadata": {
    "collapsed": false
   }
  },
  {
   "cell_type": "code",
   "execution_count": 91,
   "outputs": [
    {
     "data": {
      "text/plain": "     Sepal length  Sepal width  Petal length  Petal width     Species\n0             5.1          3.5           1.4          0.2      setosa\n1             4.9          3.0           1.4          0.2      setosa\n2             4.7          3.2           1.3          0.2      setosa\n3             4.6          3.1           1.5          0.2      setosa\n4             5.0          3.6           1.4          0.2      setosa\n..            ...          ...           ...          ...         ...\n145           6.7          3.0           5.2          2.3  versicolor\n146           6.3          2.5           5.0          1.9  versicolor\n147           6.5          3.0           5.2          2.0  versicolor\n148           6.2          3.4           5.4          2.3  versicolor\n149           5.9          3.0           5.1          1.8  versicolor\n\n[150 rows x 5 columns]",
      "text/html": "<div>\n<style scoped>\n    .dataframe tbody tr th:only-of-type {\n        vertical-align: middle;\n    }\n\n    .dataframe tbody tr th {\n        vertical-align: top;\n    }\n\n    .dataframe thead th {\n        text-align: right;\n    }\n</style>\n<table border=\"1\" class=\"dataframe\">\n  <thead>\n    <tr style=\"text-align: right;\">\n      <th></th>\n      <th>Sepal length</th>\n      <th>Sepal width</th>\n      <th>Petal length</th>\n      <th>Petal width</th>\n      <th>Species</th>\n    </tr>\n  </thead>\n  <tbody>\n    <tr>\n      <th>0</th>\n      <td>5.1</td>\n      <td>3.5</td>\n      <td>1.4</td>\n      <td>0.2</td>\n      <td>setosa</td>\n    </tr>\n    <tr>\n      <th>1</th>\n      <td>4.9</td>\n      <td>3.0</td>\n      <td>1.4</td>\n      <td>0.2</td>\n      <td>setosa</td>\n    </tr>\n    <tr>\n      <th>2</th>\n      <td>4.7</td>\n      <td>3.2</td>\n      <td>1.3</td>\n      <td>0.2</td>\n      <td>setosa</td>\n    </tr>\n    <tr>\n      <th>3</th>\n      <td>4.6</td>\n      <td>3.1</td>\n      <td>1.5</td>\n      <td>0.2</td>\n      <td>setosa</td>\n    </tr>\n    <tr>\n      <th>4</th>\n      <td>5.0</td>\n      <td>3.6</td>\n      <td>1.4</td>\n      <td>0.2</td>\n      <td>setosa</td>\n    </tr>\n    <tr>\n      <th>...</th>\n      <td>...</td>\n      <td>...</td>\n      <td>...</td>\n      <td>...</td>\n      <td>...</td>\n    </tr>\n    <tr>\n      <th>145</th>\n      <td>6.7</td>\n      <td>3.0</td>\n      <td>5.2</td>\n      <td>2.3</td>\n      <td>versicolor</td>\n    </tr>\n    <tr>\n      <th>146</th>\n      <td>6.3</td>\n      <td>2.5</td>\n      <td>5.0</td>\n      <td>1.9</td>\n      <td>versicolor</td>\n    </tr>\n    <tr>\n      <th>147</th>\n      <td>6.5</td>\n      <td>3.0</td>\n      <td>5.2</td>\n      <td>2.0</td>\n      <td>versicolor</td>\n    </tr>\n    <tr>\n      <th>148</th>\n      <td>6.2</td>\n      <td>3.4</td>\n      <td>5.4</td>\n      <td>2.3</td>\n      <td>versicolor</td>\n    </tr>\n    <tr>\n      <th>149</th>\n      <td>5.9</td>\n      <td>3.0</td>\n      <td>5.1</td>\n      <td>1.8</td>\n      <td>versicolor</td>\n    </tr>\n  </tbody>\n</table>\n<p>150 rows × 5 columns</p>\n</div>"
     },
     "execution_count": 91,
     "metadata": {},
     "output_type": "execute_result"
    }
   ],
   "source": [
    "iris['Species'].replace({\n",
    "    0: 'setosa',\n",
    "    1: 'virginca',\n",
    "    2: 'versicolor'\n",
    "}, inplace=True)\n",
    "\n",
    "iris"
   ],
   "metadata": {
    "collapsed": false,
    "pycharm": {
     "name": "#%%\n"
    }
   }
  },
  {
   "cell_type": "markdown",
   "source": [
    "**UWAGA:** ***inplace = True*** wprowadza zmiany do DataFrame na stałe"
   ],
   "metadata": {
    "collapsed": false
   }
  },
  {
   "cell_type": "code",
   "execution_count": 92,
   "outputs": [
    {
     "data": {
      "text/plain": "     Sepal length  Sepal width  Petal length  Petal width     Species\n0             6.7          2.5           5.8          1.8  versicolor\n1             5.9          3.0           4.2          1.5    virginca\n2             6.1          2.8           4.7          1.2    virginca\n3             7.6          3.0           6.6          2.1  versicolor\n4             6.2          3.4           5.4          2.3  versicolor\n..            ...          ...           ...          ...         ...\n145           5.8          2.7           3.9          1.2    virginca\n146           4.6          3.1           1.5          0.2      setosa\n147           6.4          3.2           5.3          2.3  versicolor\n148           6.7          3.0           5.0          1.7    virginca\n149           6.5          3.2           5.1          2.0  versicolor\n\n[150 rows x 5 columns]",
      "text/html": "<div>\n<style scoped>\n    .dataframe tbody tr th:only-of-type {\n        vertical-align: middle;\n    }\n\n    .dataframe tbody tr th {\n        vertical-align: top;\n    }\n\n    .dataframe thead th {\n        text-align: right;\n    }\n</style>\n<table border=\"1\" class=\"dataframe\">\n  <thead>\n    <tr style=\"text-align: right;\">\n      <th></th>\n      <th>Sepal length</th>\n      <th>Sepal width</th>\n      <th>Petal length</th>\n      <th>Petal width</th>\n      <th>Species</th>\n    </tr>\n  </thead>\n  <tbody>\n    <tr>\n      <th>0</th>\n      <td>6.7</td>\n      <td>2.5</td>\n      <td>5.8</td>\n      <td>1.8</td>\n      <td>versicolor</td>\n    </tr>\n    <tr>\n      <th>1</th>\n      <td>5.9</td>\n      <td>3.0</td>\n      <td>4.2</td>\n      <td>1.5</td>\n      <td>virginca</td>\n    </tr>\n    <tr>\n      <th>2</th>\n      <td>6.1</td>\n      <td>2.8</td>\n      <td>4.7</td>\n      <td>1.2</td>\n      <td>virginca</td>\n    </tr>\n    <tr>\n      <th>3</th>\n      <td>7.6</td>\n      <td>3.0</td>\n      <td>6.6</td>\n      <td>2.1</td>\n      <td>versicolor</td>\n    </tr>\n    <tr>\n      <th>4</th>\n      <td>6.2</td>\n      <td>3.4</td>\n      <td>5.4</td>\n      <td>2.3</td>\n      <td>versicolor</td>\n    </tr>\n    <tr>\n      <th>...</th>\n      <td>...</td>\n      <td>...</td>\n      <td>...</td>\n      <td>...</td>\n      <td>...</td>\n    </tr>\n    <tr>\n      <th>145</th>\n      <td>5.8</td>\n      <td>2.7</td>\n      <td>3.9</td>\n      <td>1.2</td>\n      <td>virginca</td>\n    </tr>\n    <tr>\n      <th>146</th>\n      <td>4.6</td>\n      <td>3.1</td>\n      <td>1.5</td>\n      <td>0.2</td>\n      <td>setosa</td>\n    </tr>\n    <tr>\n      <th>147</th>\n      <td>6.4</td>\n      <td>3.2</td>\n      <td>5.3</td>\n      <td>2.3</td>\n      <td>versicolor</td>\n    </tr>\n    <tr>\n      <th>148</th>\n      <td>6.7</td>\n      <td>3.0</td>\n      <td>5.0</td>\n      <td>1.7</td>\n      <td>virginca</td>\n    </tr>\n    <tr>\n      <th>149</th>\n      <td>6.5</td>\n      <td>3.2</td>\n      <td>5.1</td>\n      <td>2.0</td>\n      <td>versicolor</td>\n    </tr>\n  </tbody>\n</table>\n<p>150 rows × 5 columns</p>\n</div>"
     },
     "execution_count": 92,
     "metadata": {},
     "output_type": "execute_result"
    }
   ],
   "source": [
    "# Tworzymy nowy DataFrame w losowej kolejności z oryginalnego DataFrame, a następnie resetujemy indeksy\n",
    "chaos_iris = iris.sample(frac=1.0).reset_index(drop=True)  # parametr frac -> weź 100% danych\n",
    "chaos_iris"
   ],
   "metadata": {
    "collapsed": false,
    "pycharm": {
     "name": "#%%\n"
    }
   }
  },
  {
   "cell_type": "code",
   "execution_count": 93,
   "outputs": [
    {
     "data": {
      "text/plain": "    Sepal length  Sepal width  Petal length  Petal width Species\n0            5.1          3.5           1.4          0.2  setosa\n1            4.9          3.0           1.4          0.2  setosa\n2            4.7          3.2           1.3          0.2  setosa\n3            4.6          3.1           1.5          0.2  setosa\n4            5.0          3.6           1.4          0.2  setosa\n5            5.4          3.9           1.7          0.4  setosa\n6            4.6          3.4           1.4          0.3  setosa\n7            5.0          3.4           1.5          0.2  setosa\n8            4.4          2.9           1.4          0.2  setosa\n9            4.9          3.1           1.5          0.1  setosa\n10           5.4          3.7           1.5          0.2  setosa\n11           4.8          3.4           1.6          0.2  setosa\n12           4.8          3.0           1.4          0.1  setosa\n13           4.3          3.0           1.1          0.1  setosa\n14           5.8          4.0           1.2          0.2  setosa\n15           5.7          4.4           1.5          0.4  setosa\n16           5.4          3.9           1.3          0.4  setosa\n17           5.1          3.5           1.4          0.3  setosa\n18           5.7          3.8           1.7          0.3  setosa\n19           5.1          3.8           1.5          0.3  setosa\n20           5.4          3.4           1.7          0.2  setosa\n21           5.1          3.7           1.5          0.4  setosa\n22           4.6          3.6           1.0          0.2  setosa\n23           5.1          3.3           1.7          0.5  setosa\n24           4.8          3.4           1.9          0.2  setosa\n25           5.0          3.0           1.6          0.2  setosa\n26           5.0          3.4           1.6          0.4  setosa\n27           5.2          3.5           1.5          0.2  setosa\n28           5.2          3.4           1.4          0.2  setosa\n29           4.7          3.2           1.6          0.2  setosa\n30           4.8          3.1           1.6          0.2  setosa\n31           5.4          3.4           1.5          0.4  setosa\n32           5.2          4.1           1.5          0.1  setosa\n33           5.5          4.2           1.4          0.2  setosa\n34           4.9          3.1           1.5          0.2  setosa\n35           5.0          3.2           1.2          0.2  setosa\n36           5.5          3.5           1.3          0.2  setosa\n37           4.9          3.6           1.4          0.1  setosa\n38           4.4          3.0           1.3          0.2  setosa\n39           5.1          3.4           1.5          0.2  setosa\n40           5.0          3.5           1.3          0.3  setosa\n41           4.5          2.3           1.3          0.3  setosa\n42           4.4          3.2           1.3          0.2  setosa\n43           5.0          3.5           1.6          0.6  setosa\n44           5.1          3.8           1.9          0.4  setosa\n45           4.8          3.0           1.4          0.3  setosa\n46           5.1          3.8           1.6          0.2  setosa\n47           4.6          3.2           1.4          0.2  setosa\n48           5.3          3.7           1.5          0.2  setosa\n49           5.0          3.3           1.4          0.2  setosa",
      "text/html": "<div>\n<style scoped>\n    .dataframe tbody tr th:only-of-type {\n        vertical-align: middle;\n    }\n\n    .dataframe tbody tr th {\n        vertical-align: top;\n    }\n\n    .dataframe thead th {\n        text-align: right;\n    }\n</style>\n<table border=\"1\" class=\"dataframe\">\n  <thead>\n    <tr style=\"text-align: right;\">\n      <th></th>\n      <th>Sepal length</th>\n      <th>Sepal width</th>\n      <th>Petal length</th>\n      <th>Petal width</th>\n      <th>Species</th>\n    </tr>\n  </thead>\n  <tbody>\n    <tr>\n      <th>0</th>\n      <td>5.1</td>\n      <td>3.5</td>\n      <td>1.4</td>\n      <td>0.2</td>\n      <td>setosa</td>\n    </tr>\n    <tr>\n      <th>1</th>\n      <td>4.9</td>\n      <td>3.0</td>\n      <td>1.4</td>\n      <td>0.2</td>\n      <td>setosa</td>\n    </tr>\n    <tr>\n      <th>2</th>\n      <td>4.7</td>\n      <td>3.2</td>\n      <td>1.3</td>\n      <td>0.2</td>\n      <td>setosa</td>\n    </tr>\n    <tr>\n      <th>3</th>\n      <td>4.6</td>\n      <td>3.1</td>\n      <td>1.5</td>\n      <td>0.2</td>\n      <td>setosa</td>\n    </tr>\n    <tr>\n      <th>4</th>\n      <td>5.0</td>\n      <td>3.6</td>\n      <td>1.4</td>\n      <td>0.2</td>\n      <td>setosa</td>\n    </tr>\n    <tr>\n      <th>5</th>\n      <td>5.4</td>\n      <td>3.9</td>\n      <td>1.7</td>\n      <td>0.4</td>\n      <td>setosa</td>\n    </tr>\n    <tr>\n      <th>6</th>\n      <td>4.6</td>\n      <td>3.4</td>\n      <td>1.4</td>\n      <td>0.3</td>\n      <td>setosa</td>\n    </tr>\n    <tr>\n      <th>7</th>\n      <td>5.0</td>\n      <td>3.4</td>\n      <td>1.5</td>\n      <td>0.2</td>\n      <td>setosa</td>\n    </tr>\n    <tr>\n      <th>8</th>\n      <td>4.4</td>\n      <td>2.9</td>\n      <td>1.4</td>\n      <td>0.2</td>\n      <td>setosa</td>\n    </tr>\n    <tr>\n      <th>9</th>\n      <td>4.9</td>\n      <td>3.1</td>\n      <td>1.5</td>\n      <td>0.1</td>\n      <td>setosa</td>\n    </tr>\n    <tr>\n      <th>10</th>\n      <td>5.4</td>\n      <td>3.7</td>\n      <td>1.5</td>\n      <td>0.2</td>\n      <td>setosa</td>\n    </tr>\n    <tr>\n      <th>11</th>\n      <td>4.8</td>\n      <td>3.4</td>\n      <td>1.6</td>\n      <td>0.2</td>\n      <td>setosa</td>\n    </tr>\n    <tr>\n      <th>12</th>\n      <td>4.8</td>\n      <td>3.0</td>\n      <td>1.4</td>\n      <td>0.1</td>\n      <td>setosa</td>\n    </tr>\n    <tr>\n      <th>13</th>\n      <td>4.3</td>\n      <td>3.0</td>\n      <td>1.1</td>\n      <td>0.1</td>\n      <td>setosa</td>\n    </tr>\n    <tr>\n      <th>14</th>\n      <td>5.8</td>\n      <td>4.0</td>\n      <td>1.2</td>\n      <td>0.2</td>\n      <td>setosa</td>\n    </tr>\n    <tr>\n      <th>15</th>\n      <td>5.7</td>\n      <td>4.4</td>\n      <td>1.5</td>\n      <td>0.4</td>\n      <td>setosa</td>\n    </tr>\n    <tr>\n      <th>16</th>\n      <td>5.4</td>\n      <td>3.9</td>\n      <td>1.3</td>\n      <td>0.4</td>\n      <td>setosa</td>\n    </tr>\n    <tr>\n      <th>17</th>\n      <td>5.1</td>\n      <td>3.5</td>\n      <td>1.4</td>\n      <td>0.3</td>\n      <td>setosa</td>\n    </tr>\n    <tr>\n      <th>18</th>\n      <td>5.7</td>\n      <td>3.8</td>\n      <td>1.7</td>\n      <td>0.3</td>\n      <td>setosa</td>\n    </tr>\n    <tr>\n      <th>19</th>\n      <td>5.1</td>\n      <td>3.8</td>\n      <td>1.5</td>\n      <td>0.3</td>\n      <td>setosa</td>\n    </tr>\n    <tr>\n      <th>20</th>\n      <td>5.4</td>\n      <td>3.4</td>\n      <td>1.7</td>\n      <td>0.2</td>\n      <td>setosa</td>\n    </tr>\n    <tr>\n      <th>21</th>\n      <td>5.1</td>\n      <td>3.7</td>\n      <td>1.5</td>\n      <td>0.4</td>\n      <td>setosa</td>\n    </tr>\n    <tr>\n      <th>22</th>\n      <td>4.6</td>\n      <td>3.6</td>\n      <td>1.0</td>\n      <td>0.2</td>\n      <td>setosa</td>\n    </tr>\n    <tr>\n      <th>23</th>\n      <td>5.1</td>\n      <td>3.3</td>\n      <td>1.7</td>\n      <td>0.5</td>\n      <td>setosa</td>\n    </tr>\n    <tr>\n      <th>24</th>\n      <td>4.8</td>\n      <td>3.4</td>\n      <td>1.9</td>\n      <td>0.2</td>\n      <td>setosa</td>\n    </tr>\n    <tr>\n      <th>25</th>\n      <td>5.0</td>\n      <td>3.0</td>\n      <td>1.6</td>\n      <td>0.2</td>\n      <td>setosa</td>\n    </tr>\n    <tr>\n      <th>26</th>\n      <td>5.0</td>\n      <td>3.4</td>\n      <td>1.6</td>\n      <td>0.4</td>\n      <td>setosa</td>\n    </tr>\n    <tr>\n      <th>27</th>\n      <td>5.2</td>\n      <td>3.5</td>\n      <td>1.5</td>\n      <td>0.2</td>\n      <td>setosa</td>\n    </tr>\n    <tr>\n      <th>28</th>\n      <td>5.2</td>\n      <td>3.4</td>\n      <td>1.4</td>\n      <td>0.2</td>\n      <td>setosa</td>\n    </tr>\n    <tr>\n      <th>29</th>\n      <td>4.7</td>\n      <td>3.2</td>\n      <td>1.6</td>\n      <td>0.2</td>\n      <td>setosa</td>\n    </tr>\n    <tr>\n      <th>30</th>\n      <td>4.8</td>\n      <td>3.1</td>\n      <td>1.6</td>\n      <td>0.2</td>\n      <td>setosa</td>\n    </tr>\n    <tr>\n      <th>31</th>\n      <td>5.4</td>\n      <td>3.4</td>\n      <td>1.5</td>\n      <td>0.4</td>\n      <td>setosa</td>\n    </tr>\n    <tr>\n      <th>32</th>\n      <td>5.2</td>\n      <td>4.1</td>\n      <td>1.5</td>\n      <td>0.1</td>\n      <td>setosa</td>\n    </tr>\n    <tr>\n      <th>33</th>\n      <td>5.5</td>\n      <td>4.2</td>\n      <td>1.4</td>\n      <td>0.2</td>\n      <td>setosa</td>\n    </tr>\n    <tr>\n      <th>34</th>\n      <td>4.9</td>\n      <td>3.1</td>\n      <td>1.5</td>\n      <td>0.2</td>\n      <td>setosa</td>\n    </tr>\n    <tr>\n      <th>35</th>\n      <td>5.0</td>\n      <td>3.2</td>\n      <td>1.2</td>\n      <td>0.2</td>\n      <td>setosa</td>\n    </tr>\n    <tr>\n      <th>36</th>\n      <td>5.5</td>\n      <td>3.5</td>\n      <td>1.3</td>\n      <td>0.2</td>\n      <td>setosa</td>\n    </tr>\n    <tr>\n      <th>37</th>\n      <td>4.9</td>\n      <td>3.6</td>\n      <td>1.4</td>\n      <td>0.1</td>\n      <td>setosa</td>\n    </tr>\n    <tr>\n      <th>38</th>\n      <td>4.4</td>\n      <td>3.0</td>\n      <td>1.3</td>\n      <td>0.2</td>\n      <td>setosa</td>\n    </tr>\n    <tr>\n      <th>39</th>\n      <td>5.1</td>\n      <td>3.4</td>\n      <td>1.5</td>\n      <td>0.2</td>\n      <td>setosa</td>\n    </tr>\n    <tr>\n      <th>40</th>\n      <td>5.0</td>\n      <td>3.5</td>\n      <td>1.3</td>\n      <td>0.3</td>\n      <td>setosa</td>\n    </tr>\n    <tr>\n      <th>41</th>\n      <td>4.5</td>\n      <td>2.3</td>\n      <td>1.3</td>\n      <td>0.3</td>\n      <td>setosa</td>\n    </tr>\n    <tr>\n      <th>42</th>\n      <td>4.4</td>\n      <td>3.2</td>\n      <td>1.3</td>\n      <td>0.2</td>\n      <td>setosa</td>\n    </tr>\n    <tr>\n      <th>43</th>\n      <td>5.0</td>\n      <td>3.5</td>\n      <td>1.6</td>\n      <td>0.6</td>\n      <td>setosa</td>\n    </tr>\n    <tr>\n      <th>44</th>\n      <td>5.1</td>\n      <td>3.8</td>\n      <td>1.9</td>\n      <td>0.4</td>\n      <td>setosa</td>\n    </tr>\n    <tr>\n      <th>45</th>\n      <td>4.8</td>\n      <td>3.0</td>\n      <td>1.4</td>\n      <td>0.3</td>\n      <td>setosa</td>\n    </tr>\n    <tr>\n      <th>46</th>\n      <td>5.1</td>\n      <td>3.8</td>\n      <td>1.6</td>\n      <td>0.2</td>\n      <td>setosa</td>\n    </tr>\n    <tr>\n      <th>47</th>\n      <td>4.6</td>\n      <td>3.2</td>\n      <td>1.4</td>\n      <td>0.2</td>\n      <td>setosa</td>\n    </tr>\n    <tr>\n      <th>48</th>\n      <td>5.3</td>\n      <td>3.7</td>\n      <td>1.5</td>\n      <td>0.2</td>\n      <td>setosa</td>\n    </tr>\n    <tr>\n      <th>49</th>\n      <td>5.0</td>\n      <td>3.3</td>\n      <td>1.4</td>\n      <td>0.2</td>\n      <td>setosa</td>\n    </tr>\n  </tbody>\n</table>\n</div>"
     },
     "execution_count": 93,
     "metadata": {},
     "output_type": "execute_result"
    }
   ],
   "source": [
    "# Spośród wszystkich danych wybieramy tylko te, które pasują do naszego zapytania\n",
    "iris[iris['Species'] == 'setosa']"
   ],
   "metadata": {
    "collapsed": false,
    "pycharm": {
     "name": "#%%\n"
    }
   }
  },
  {
   "cell_type": "code",
   "execution_count": 100,
   "outputs": [
    {
     "data": {
      "text/plain": "    year                      category  winner                   entity\n0   1927                         ACTOR   False      Richard Barthelmess\n1   1927                         ACTOR    True            Emil Jannings\n2   1927                       ACTRESS   False           Louise Dresser\n3   1927                       ACTRESS    True             Janet Gaynor\n4   1927                       ACTRESS   False           Gloria Swanson\n5   1927                 ART DIRECTION   False            Rochus Gliese\n6   1927                 ART DIRECTION    True  William Cameron Menzies\n7   1927                 ART DIRECTION   False             Harry Oliver\n8   1927                CINEMATOGRAPHY   False            George Barnes\n9   1927                CINEMATOGRAPHY    True           Charles Rosher\n10  1927                CINEMATOGRAPHY    True              Karl Struss\n11  1927    DIRECTING (Comedy Picture)    True          Lewis Milestone\n12  1927    DIRECTING (Comedy Picture)   False                Ted Wilde\n13  1927  DIRECTING (Dramatic Picture)    True            Frank Borzage\n14  1927  DIRECTING (Dramatic Picture)   False           Herbert Brenon\n15  1927  DIRECTING (Dramatic Picture)   False               King Vidor\n16  1927           ENGINEERING EFFECTS   False           Ralph Hammeras\n17  1927           ENGINEERING EFFECTS    True              Roy Pomeroy\n18  1927           ENGINEERING EFFECTS   False         Nugent Slaughter\n19  1927           OUTSTANDING PICTURE   False        The Caddo Company",
      "text/html": "<div>\n<style scoped>\n    .dataframe tbody tr th:only-of-type {\n        vertical-align: middle;\n    }\n\n    .dataframe tbody tr th {\n        vertical-align: top;\n    }\n\n    .dataframe thead th {\n        text-align: right;\n    }\n</style>\n<table border=\"1\" class=\"dataframe\">\n  <thead>\n    <tr style=\"text-align: right;\">\n      <th></th>\n      <th>year</th>\n      <th>category</th>\n      <th>winner</th>\n      <th>entity</th>\n    </tr>\n  </thead>\n  <tbody>\n    <tr>\n      <th>0</th>\n      <td>1927</td>\n      <td>ACTOR</td>\n      <td>False</td>\n      <td>Richard Barthelmess</td>\n    </tr>\n    <tr>\n      <th>1</th>\n      <td>1927</td>\n      <td>ACTOR</td>\n      <td>True</td>\n      <td>Emil Jannings</td>\n    </tr>\n    <tr>\n      <th>2</th>\n      <td>1927</td>\n      <td>ACTRESS</td>\n      <td>False</td>\n      <td>Louise Dresser</td>\n    </tr>\n    <tr>\n      <th>3</th>\n      <td>1927</td>\n      <td>ACTRESS</td>\n      <td>True</td>\n      <td>Janet Gaynor</td>\n    </tr>\n    <tr>\n      <th>4</th>\n      <td>1927</td>\n      <td>ACTRESS</td>\n      <td>False</td>\n      <td>Gloria Swanson</td>\n    </tr>\n    <tr>\n      <th>5</th>\n      <td>1927</td>\n      <td>ART DIRECTION</td>\n      <td>False</td>\n      <td>Rochus Gliese</td>\n    </tr>\n    <tr>\n      <th>6</th>\n      <td>1927</td>\n      <td>ART DIRECTION</td>\n      <td>True</td>\n      <td>William Cameron Menzies</td>\n    </tr>\n    <tr>\n      <th>7</th>\n      <td>1927</td>\n      <td>ART DIRECTION</td>\n      <td>False</td>\n      <td>Harry Oliver</td>\n    </tr>\n    <tr>\n      <th>8</th>\n      <td>1927</td>\n      <td>CINEMATOGRAPHY</td>\n      <td>False</td>\n      <td>George Barnes</td>\n    </tr>\n    <tr>\n      <th>9</th>\n      <td>1927</td>\n      <td>CINEMATOGRAPHY</td>\n      <td>True</td>\n      <td>Charles Rosher</td>\n    </tr>\n    <tr>\n      <th>10</th>\n      <td>1927</td>\n      <td>CINEMATOGRAPHY</td>\n      <td>True</td>\n      <td>Karl Struss</td>\n    </tr>\n    <tr>\n      <th>11</th>\n      <td>1927</td>\n      <td>DIRECTING (Comedy Picture)</td>\n      <td>True</td>\n      <td>Lewis Milestone</td>\n    </tr>\n    <tr>\n      <th>12</th>\n      <td>1927</td>\n      <td>DIRECTING (Comedy Picture)</td>\n      <td>False</td>\n      <td>Ted Wilde</td>\n    </tr>\n    <tr>\n      <th>13</th>\n      <td>1927</td>\n      <td>DIRECTING (Dramatic Picture)</td>\n      <td>True</td>\n      <td>Frank Borzage</td>\n    </tr>\n    <tr>\n      <th>14</th>\n      <td>1927</td>\n      <td>DIRECTING (Dramatic Picture)</td>\n      <td>False</td>\n      <td>Herbert Brenon</td>\n    </tr>\n    <tr>\n      <th>15</th>\n      <td>1927</td>\n      <td>DIRECTING (Dramatic Picture)</td>\n      <td>False</td>\n      <td>King Vidor</td>\n    </tr>\n    <tr>\n      <th>16</th>\n      <td>1927</td>\n      <td>ENGINEERING EFFECTS</td>\n      <td>False</td>\n      <td>Ralph Hammeras</td>\n    </tr>\n    <tr>\n      <th>17</th>\n      <td>1927</td>\n      <td>ENGINEERING EFFECTS</td>\n      <td>True</td>\n      <td>Roy Pomeroy</td>\n    </tr>\n    <tr>\n      <th>18</th>\n      <td>1927</td>\n      <td>ENGINEERING EFFECTS</td>\n      <td>False</td>\n      <td>Nugent Slaughter</td>\n    </tr>\n    <tr>\n      <th>19</th>\n      <td>1927</td>\n      <td>OUTSTANDING PICTURE</td>\n      <td>False</td>\n      <td>The Caddo Company</td>\n    </tr>\n  </tbody>\n</table>\n</div>"
     },
     "execution_count": 100,
     "metadata": {},
     "output_type": "execute_result"
    }
   ],
   "source": [
    "oscars = read_csv('dane/oscars.csv')\n",
    "oscars.head(20)"
   ],
   "metadata": {
    "collapsed": false,
    "pycharm": {
     "name": "#%%\n"
    }
   }
  },
  {
   "cell_type": "code",
   "execution_count": 101,
   "outputs": [
    {
     "data": {
      "text/plain": "       year                    category  winner     entity\n7979   1995  ACTOR IN A SUPPORTING ROLE   False  Brad Pitt\n9689   2008     ACTOR IN A LEADING ROLE   False  Brad Pitt\n10083  2011     ACTOR IN A LEADING ROLE   False  Brad Pitt\n11202  2019  ACTOR IN A SUPPORTING ROLE    True  Brad Pitt",
      "text/html": "<div>\n<style scoped>\n    .dataframe tbody tr th:only-of-type {\n        vertical-align: middle;\n    }\n\n    .dataframe tbody tr th {\n        vertical-align: top;\n    }\n\n    .dataframe thead th {\n        text-align: right;\n    }\n</style>\n<table border=\"1\" class=\"dataframe\">\n  <thead>\n    <tr style=\"text-align: right;\">\n      <th></th>\n      <th>year</th>\n      <th>category</th>\n      <th>winner</th>\n      <th>entity</th>\n    </tr>\n  </thead>\n  <tbody>\n    <tr>\n      <th>7979</th>\n      <td>1995</td>\n      <td>ACTOR IN A SUPPORTING ROLE</td>\n      <td>False</td>\n      <td>Brad Pitt</td>\n    </tr>\n    <tr>\n      <th>9689</th>\n      <td>2008</td>\n      <td>ACTOR IN A LEADING ROLE</td>\n      <td>False</td>\n      <td>Brad Pitt</td>\n    </tr>\n    <tr>\n      <th>10083</th>\n      <td>2011</td>\n      <td>ACTOR IN A LEADING ROLE</td>\n      <td>False</td>\n      <td>Brad Pitt</td>\n    </tr>\n    <tr>\n      <th>11202</th>\n      <td>2019</td>\n      <td>ACTOR IN A SUPPORTING ROLE</td>\n      <td>True</td>\n      <td>Brad Pitt</td>\n    </tr>\n  </tbody>\n</table>\n</div>"
     },
     "execution_count": 101,
     "metadata": {},
     "output_type": "execute_result"
    }
   ],
   "source": [
    "where1 = oscars['entity'] == 'Brad Pitt'\n",
    "oscars[where1]"
   ],
   "metadata": {
    "collapsed": false,
    "pycharm": {
     "name": "#%%\n"
    }
   }
  },
  {
   "cell_type": "code",
   "execution_count": null,
   "outputs": [],
   "source": [],
   "metadata": {
    "collapsed": false,
    "pycharm": {
     "name": "#%%\n"
    }
   }
  }
 ],
 "metadata": {
  "kernelspec": {
   "display_name": "Python 3",
   "language": "python",
   "name": "python3"
  },
  "language_info": {
   "codemirror_mode": {
    "name": "ipython",
    "version": 2
   },
   "file_extension": ".py",
   "mimetype": "text/x-python",
   "name": "python",
   "nbconvert_exporter": "python",
   "pygments_lexer": "ipython2",
   "version": "2.7.6"
  }
 },
 "nbformat": 4,
 "nbformat_minor": 0
}